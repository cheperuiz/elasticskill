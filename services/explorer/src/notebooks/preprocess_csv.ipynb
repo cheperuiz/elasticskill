{
 "cells": [
  {
   "cell_type": "code",
   "execution_count": 1,
   "metadata": {},
   "outputs": [],
   "source": [
    "from utils.csv import clean_csv, find_urls, line_generator, remove_stopwords, EXTRA_STOPWORDS\n",
    "from utils.string import *\n",
    "from nltk.corpus import stopwords\n",
    "import pandas as pd\n",
    "import csv"
   ]
  },
  {
   "cell_type": "code",
   "execution_count": 2,
   "metadata": {},
   "outputs": [],
   "source": [
    "dirty_path = 'data/report[dirty].csv'\n",
    "clean_path = 'data/report[clean].csv'\n",
    "urls_path = 'data/urls.txt'\n"
   ]
  },
  {
   "cell_type": "code",
   "execution_count": 3,
   "metadata": {},
   "outputs": [],
   "source": [
    "clean_csv(dirty_path, clean_path)"
   ]
  },
  {
   "cell_type": "code",
   "execution_count": null,
   "metadata": {},
   "outputs": [],
   "source": []
  },
  {
   "cell_type": "code",
   "execution_count": 9,
   "metadata": {},
   "outputs": [
    {
     "data": {
      "text/plain": [
       "{'https://basecamp.com/1849140/projects/16101108/todos/398763966',\n",
       " 'https://basecamp.com/1849140/projects/16101108/todos/399727306',\n",
       " 'https://basecamp.com/1849140/projects/16101108/todos/401862070',\n",
       " 'https://basecamp.com/1849140/projects/16101108/todos/403180948',\n",
       " 'https://basecamp.com/1849140/projects/16101108/todos/40344735',\n",
       " 'https://basecamp.com/1849140/projects/16101108/todos/40407312',\n",
       " 'https://basecamp.com/1849140/projects/16829504/todos/39814603',\n",
       " 'https://community.nxp.com/groups/l2sup-hidglobal-190701',\n",
       " 'https://community.nxp.com/groups/l2sup-msctechnologies-181129',\n",
       " 'https://community.nxp.com/groups/l2sup-zebra-chimera-190327',\n",
       " 'https://community.nxp.com/message/1236520',\n",
       " 'https://community.nxp.com/thread/486685',\n",
       " 'https://community.nxp.com/thread/488378',\n",
       " 'https://community.nxp.com/thread/493375',\n",
       " 'https://community.nxp.com/thread/493859',\n",
       " 'https://community.nxp.com/thread/493879',\n",
       " 'https://community.nxp.com/thread/494414',\n",
       " 'https://community.nxp.com/thread/494581',\n",
       " 'https://community.nxp.com/thread/494923',\n",
       " 'https://community.nxp.com/thread/495365',\n",
       " 'https://community.nxp.com/thread/495522',\n",
       " 'https://community.nxp.com/thread/495732',\n",
       " 'https://community.nxp.com/thread/496137',\n",
       " 'https://community.nxp.com/thread/496138',\n",
       " 'https://community.nxp.com/thread/496436',\n",
       " 'https://community.nxp.com/thread/496937',\n",
       " 'https://community.nxp.com/thread/497179',\n",
       " 'https://community.nxp.com/thread/497604',\n",
       " 'https://community.nxp.com/thread/498250',\n",
       " 'https://community.nxp.com/thread/499563',\n",
       " 'https://community.nxp.com/thread/499774',\n",
       " 'https://community.nxp.com/thread/501390',\n",
       " 'https://community.nxp.com/thread/502745',\n",
       " 'https://community.nxp.com/thread/503749',\n",
       " 'https://community.nxp.com/thread/504551',\n",
       " 'https://community.nxp.com/thread/505003',\n",
       " 'https://community.nxp.com/thread/506444',\n",
       " 'https://community.nxp.com/thread/506788',\n",
       " 'https://community.nxp.com/thread/506839',\n",
       " 'https://community.nxp.com/thread/506913',\n",
       " 'https://community.nxp.com/thread/50878',\n",
       " 'https://community.nxp.com/thread/508897',\n",
       " 'https://community.nxp.com/thread/50911',\n",
       " 'https://community.nxp.com/thread/509166',\n",
       " 'https://community.nxp.com/thread/509278',\n",
       " 'https://community.nxp.com/thread/509615',\n",
       " 'https://community.nxp.com/thread/509715',\n",
       " 'https://community.nxp.com/thread/510571',\n",
       " 'https://community.nxp.com/thread/510572',\n",
       " 'https://community.nxp.com/thread/510686',\n",
       " 'https://community.nxp.com/thread/51070',\n",
       " 'https://community.nxp.com/thread/51095',\n",
       " 'https://community.nxp.com/thread/510952',\n",
       " 'https://community.nxp.com/thread/510956',\n",
       " 'https://community.nxp.com/thread/511081',\n",
       " 'https://community.nxp.com/thread/51114',\n",
       " 'https://community.nxp.com/thread/511362',\n",
       " 'https://community.nxp.com/thread/51141',\n",
       " 'https://community.nxp.com/thread/511431',\n",
       " 'https://community.nxp.com/thread/511645',\n",
       " 'https://community.nxp.com/thread/511646',\n",
       " 'https://community.nxp.com/thread/511749',\n",
       " 'https://community.nxp.com/thread/511976',\n",
       " 'https://community.nxp.com/thread/512039',\n",
       " 'https://community.nxp.com/thread/51210',\n",
       " 'https://community.nxp.com/thread/51222',\n",
       " 'https://community.nxp.com/thread/512258',\n",
       " 'https://community.nxp.com/thread/512462',\n",
       " 'https://community.nxp.com/thread/512588',\n",
       " 'https://community.nxp.com/thread/512664',\n",
       " 'https://community.nxp.com/thread/512859',\n",
       " 'https://community.nxp.com/thread/513045',\n",
       " 'https://community.nxp.com/thread/513048',\n",
       " 'https://community.nxp.com/thread/51306',\n",
       " 'https://community.nxp.com/thread/513079',\n",
       " 'https://community.nxp.com/thread/513272',\n",
       " 'https://community.nxp.com/thread/513292',\n",
       " 'https://community.nxp.com/thread/513649',\n",
       " 'https://community.nxp.com/thread/51365',\n",
       " 'https://community.nxp.com/thread/51373',\n",
       " 'https://community.nxp.com/thread/51395',\n",
       " 'https://community.nxp.com/thread/514088',\n",
       " 'https://community.nxp.com/thread/51413',\n",
       " 'https://community.nxp.com/thread/51429',\n",
       " 'https://community.nxp.com/thread/514374',\n",
       " 'https://community.nxp.com/thread/514761',\n",
       " 'https://community.nxp.com/thread/515169',\n",
       " 'https://community.nxp.com/thread/51578',\n",
       " 'https://community.nxp.com/thread/515783',\n",
       " 'https://community.nxp.com/thread/515784',\n",
       " 'https://community.nxp.com/thread/516126',\n",
       " 'https://community.nxp.com/thread/51617',\n",
       " 'https://community.nxp.com/thread/516318',\n",
       " 'https://community.nxp.com/thread/516748',\n",
       " 'https://community.nxp.com/thread/5173',\n",
       " 'https://community.nxp.com/thread/51731',\n",
       " 'https://community.nxp.com/thread/51755',\n",
       " 'https://community.nxp.com/thread/51782',\n",
       " 'https://community.nxp.com/thread/51783',\n",
       " 'https://community.nxp.com/thread/517831',\n",
       " 'https://community.nxp.com/thread/518148',\n",
       " 'https://community.nxp.com/thread/51829',\n",
       " 'https://community.nxp.com/thread/51836',\n",
       " 'https://community.nxp.com/thread/51874',\n",
       " 'https://community.nxp.com/thread/519137',\n",
       " 'https://community.nxp.com/thread/51925',\n",
       " 'https://community.nxp.com/thread/51940',\n",
       " 'https://community.nxp.com/thread/51941',\n",
       " 'https://community.nxp.com/thread/51952',\n",
       " 'https://community.nxp.com/thread/519523',\n",
       " 'https://community.nxp.com/thread/519613',\n",
       " 'https://community.nxp.com/thread/51964',\n",
       " 'https://community.nxp.com/thread/519926',\n",
       " 'https://community.nxp.com/thread/51999',\n",
       " 'https://community.nxp.com/thread/52000',\n",
       " 'https://community.nxp.com/thread/52009',\n",
       " 'https://community.nxp.com/thread/520093',\n",
       " 'https://community.nxp.com/thread/52038',\n",
       " 'https://community.nxp.com/thread/52064',\n",
       " 'https://community.nxp.com/thread/52065',\n",
       " 'https://community.nxp.com/thread/520691',\n",
       " 'https://community.nxp.com/thread/520946',\n",
       " 'https://community.nxp.com/thread/521356',\n",
       " 'https://community.nxp.com/thread/521357',\n",
       " 'https://community.nxp.com/thread/521457',\n",
       " 'https://community.nxp.com/thread/521458',\n",
       " 'https://community.nxp.com/thread/521527',\n",
       " 'https://community.nxp.com/thread/521688',\n",
       " 'https://community.nxp.com/thread/522205',\n",
       " 'https://community.nxp.com/thread/522494'}"
      ]
     },
     "execution_count": 9,
     "metadata": {},
     "output_type": "execute_result"
    }
   ],
   "source": [
    "urls"
   ]
  },
  {
   "cell_type": "code",
   "execution_count": 13,
   "metadata": {},
   "outputs": [],
   "source": [
    "g = csv_line_generator(open(clean_path))"
   ]
  },
  {
   "cell_type": "code",
   "execution_count": 14,
   "metadata": {},
   "outputs": [
    {
     "data": {
      "text/plain": [
       "'project,project_id,internal_project_id,project_description,project_time_budget,tasklist,internal_tasklist_id,task,task_id,internal_task_id,task_time_budget,task_description,user,internal_user_id,start_time,end_time,worked_time,decimal_hours,time_in_seconds\\n'"
      ]
     },
     "execution_count": 14,
     "metadata": {},
     "output_type": "execute_result"
    }
   ],
   "source": [
    "line = next(g)\n",
    "line"
   ]
  },
  {
   "cell_type": "code",
   "execution_count": 11,
   "metadata": {},
   "outputs": [],
   "source": [
    "import pandas as pd"
   ]
  },
  {
   "cell_type": "code",
   "execution_count": 12,
   "metadata": {},
   "outputs": [
    {
     "ename": "ParserError",
     "evalue": "Error tokenizing data. C error: Expected 19 fields in line 5, saw 26\n",
     "output_type": "error",
     "traceback": [
      "\u001b[0;31m---------------------------------------------------------------------------\u001b[0m",
      "\u001b[0;31mParserError\u001b[0m                               Traceback (most recent call last)",
      "\u001b[0;32m<ipython-input-12-3600b805376c>\u001b[0m in \u001b[0;36m<module>\u001b[0;34m\u001b[0m\n\u001b[0;32m----> 1\u001b[0;31m \u001b[0mdf\u001b[0m \u001b[0;34m=\u001b[0m \u001b[0mpd\u001b[0m\u001b[0;34m.\u001b[0m\u001b[0mread_csv\u001b[0m\u001b[0;34m(\u001b[0m\u001b[0mclean_path\u001b[0m\u001b[0;34m)\u001b[0m\u001b[0;34m\u001b[0m\u001b[0;34m\u001b[0m\u001b[0m\n\u001b[0m",
      "\u001b[0;32m/usr/local/lib/python3.8/site-packages/pandas/io/parsers.py\u001b[0m in \u001b[0;36mparser_f\u001b[0;34m(filepath_or_buffer, sep, delimiter, header, names, index_col, usecols, squeeze, prefix, mangle_dupe_cols, dtype, engine, converters, true_values, false_values, skipinitialspace, skiprows, skipfooter, nrows, na_values, keep_default_na, na_filter, verbose, skip_blank_lines, parse_dates, infer_datetime_format, keep_date_col, date_parser, dayfirst, cache_dates, iterator, chunksize, compression, thousands, decimal, lineterminator, quotechar, quoting, doublequote, escapechar, comment, encoding, dialect, error_bad_lines, warn_bad_lines, delim_whitespace, low_memory, memory_map, float_precision)\u001b[0m\n\u001b[1;32m    683\u001b[0m         )\n\u001b[1;32m    684\u001b[0m \u001b[0;34m\u001b[0m\u001b[0m\n\u001b[0;32m--> 685\u001b[0;31m         \u001b[0;32mreturn\u001b[0m \u001b[0m_read\u001b[0m\u001b[0;34m(\u001b[0m\u001b[0mfilepath_or_buffer\u001b[0m\u001b[0;34m,\u001b[0m \u001b[0mkwds\u001b[0m\u001b[0;34m)\u001b[0m\u001b[0;34m\u001b[0m\u001b[0;34m\u001b[0m\u001b[0m\n\u001b[0m\u001b[1;32m    686\u001b[0m \u001b[0;34m\u001b[0m\u001b[0m\n\u001b[1;32m    687\u001b[0m     \u001b[0mparser_f\u001b[0m\u001b[0;34m.\u001b[0m\u001b[0m__name__\u001b[0m \u001b[0;34m=\u001b[0m \u001b[0mname\u001b[0m\u001b[0;34m\u001b[0m\u001b[0;34m\u001b[0m\u001b[0m\n",
      "\u001b[0;32m/usr/local/lib/python3.8/site-packages/pandas/io/parsers.py\u001b[0m in \u001b[0;36m_read\u001b[0;34m(filepath_or_buffer, kwds)\u001b[0m\n\u001b[1;32m    461\u001b[0m \u001b[0;34m\u001b[0m\u001b[0m\n\u001b[1;32m    462\u001b[0m     \u001b[0;32mtry\u001b[0m\u001b[0;34m:\u001b[0m\u001b[0;34m\u001b[0m\u001b[0;34m\u001b[0m\u001b[0m\n\u001b[0;32m--> 463\u001b[0;31m         \u001b[0mdata\u001b[0m \u001b[0;34m=\u001b[0m \u001b[0mparser\u001b[0m\u001b[0;34m.\u001b[0m\u001b[0mread\u001b[0m\u001b[0;34m(\u001b[0m\u001b[0mnrows\u001b[0m\u001b[0;34m)\u001b[0m\u001b[0;34m\u001b[0m\u001b[0;34m\u001b[0m\u001b[0m\n\u001b[0m\u001b[1;32m    464\u001b[0m     \u001b[0;32mfinally\u001b[0m\u001b[0;34m:\u001b[0m\u001b[0;34m\u001b[0m\u001b[0;34m\u001b[0m\u001b[0m\n\u001b[1;32m    465\u001b[0m         \u001b[0mparser\u001b[0m\u001b[0;34m.\u001b[0m\u001b[0mclose\u001b[0m\u001b[0;34m(\u001b[0m\u001b[0;34m)\u001b[0m\u001b[0;34m\u001b[0m\u001b[0;34m\u001b[0m\u001b[0m\n",
      "\u001b[0;32m/usr/local/lib/python3.8/site-packages/pandas/io/parsers.py\u001b[0m in \u001b[0;36mread\u001b[0;34m(self, nrows)\u001b[0m\n\u001b[1;32m   1152\u001b[0m     \u001b[0;32mdef\u001b[0m \u001b[0mread\u001b[0m\u001b[0;34m(\u001b[0m\u001b[0mself\u001b[0m\u001b[0;34m,\u001b[0m \u001b[0mnrows\u001b[0m\u001b[0;34m=\u001b[0m\u001b[0;32mNone\u001b[0m\u001b[0;34m)\u001b[0m\u001b[0;34m:\u001b[0m\u001b[0;34m\u001b[0m\u001b[0;34m\u001b[0m\u001b[0m\n\u001b[1;32m   1153\u001b[0m         \u001b[0mnrows\u001b[0m \u001b[0;34m=\u001b[0m \u001b[0m_validate_integer\u001b[0m\u001b[0;34m(\u001b[0m\u001b[0;34m\"nrows\"\u001b[0m\u001b[0;34m,\u001b[0m \u001b[0mnrows\u001b[0m\u001b[0;34m)\u001b[0m\u001b[0;34m\u001b[0m\u001b[0;34m\u001b[0m\u001b[0m\n\u001b[0;32m-> 1154\u001b[0;31m         \u001b[0mret\u001b[0m \u001b[0;34m=\u001b[0m \u001b[0mself\u001b[0m\u001b[0;34m.\u001b[0m\u001b[0m_engine\u001b[0m\u001b[0;34m.\u001b[0m\u001b[0mread\u001b[0m\u001b[0;34m(\u001b[0m\u001b[0mnrows\u001b[0m\u001b[0;34m)\u001b[0m\u001b[0;34m\u001b[0m\u001b[0;34m\u001b[0m\u001b[0m\n\u001b[0m\u001b[1;32m   1155\u001b[0m \u001b[0;34m\u001b[0m\u001b[0m\n\u001b[1;32m   1156\u001b[0m         \u001b[0;31m# May alter columns / col_dict\u001b[0m\u001b[0;34m\u001b[0m\u001b[0;34m\u001b[0m\u001b[0;34m\u001b[0m\u001b[0m\n",
      "\u001b[0;32m/usr/local/lib/python3.8/site-packages/pandas/io/parsers.py\u001b[0m in \u001b[0;36mread\u001b[0;34m(self, nrows)\u001b[0m\n\u001b[1;32m   2057\u001b[0m     \u001b[0;32mdef\u001b[0m \u001b[0mread\u001b[0m\u001b[0;34m(\u001b[0m\u001b[0mself\u001b[0m\u001b[0;34m,\u001b[0m \u001b[0mnrows\u001b[0m\u001b[0;34m=\u001b[0m\u001b[0;32mNone\u001b[0m\u001b[0;34m)\u001b[0m\u001b[0;34m:\u001b[0m\u001b[0;34m\u001b[0m\u001b[0;34m\u001b[0m\u001b[0m\n\u001b[1;32m   2058\u001b[0m         \u001b[0;32mtry\u001b[0m\u001b[0;34m:\u001b[0m\u001b[0;34m\u001b[0m\u001b[0;34m\u001b[0m\u001b[0m\n\u001b[0;32m-> 2059\u001b[0;31m             \u001b[0mdata\u001b[0m \u001b[0;34m=\u001b[0m \u001b[0mself\u001b[0m\u001b[0;34m.\u001b[0m\u001b[0m_reader\u001b[0m\u001b[0;34m.\u001b[0m\u001b[0mread\u001b[0m\u001b[0;34m(\u001b[0m\u001b[0mnrows\u001b[0m\u001b[0;34m)\u001b[0m\u001b[0;34m\u001b[0m\u001b[0;34m\u001b[0m\u001b[0m\n\u001b[0m\u001b[1;32m   2060\u001b[0m         \u001b[0;32mexcept\u001b[0m \u001b[0mStopIteration\u001b[0m\u001b[0;34m:\u001b[0m\u001b[0;34m\u001b[0m\u001b[0;34m\u001b[0m\u001b[0m\n\u001b[1;32m   2061\u001b[0m             \u001b[0;32mif\u001b[0m \u001b[0mself\u001b[0m\u001b[0;34m.\u001b[0m\u001b[0m_first_chunk\u001b[0m\u001b[0;34m:\u001b[0m\u001b[0;34m\u001b[0m\u001b[0;34m\u001b[0m\u001b[0m\n",
      "\u001b[0;32mpandas/_libs/parsers.pyx\u001b[0m in \u001b[0;36mpandas._libs.parsers.TextReader.read\u001b[0;34m()\u001b[0m\n",
      "\u001b[0;32mpandas/_libs/parsers.pyx\u001b[0m in \u001b[0;36mpandas._libs.parsers.TextReader._read_low_memory\u001b[0;34m()\u001b[0m\n",
      "\u001b[0;32mpandas/_libs/parsers.pyx\u001b[0m in \u001b[0;36mpandas._libs.parsers.TextReader._read_rows\u001b[0;34m()\u001b[0m\n",
      "\u001b[0;32mpandas/_libs/parsers.pyx\u001b[0m in \u001b[0;36mpandas._libs.parsers.TextReader._tokenize_rows\u001b[0;34m()\u001b[0m\n",
      "\u001b[0;32mpandas/_libs/parsers.pyx\u001b[0m in \u001b[0;36mpandas._libs.parsers.raise_parser_error\u001b[0;34m()\u001b[0m\n",
      "\u001b[0;31mParserError\u001b[0m: Error tokenizing data. C error: Expected 19 fields in line 5, saw 26\n"
     ]
    }
   ],
   "source": [
    "df = pd.read_csv(clean_path)"
   ]
  },
  {
   "cell_type": "code",
   "execution_count": null,
   "metadata": {},
   "outputs": [],
   "source": []
  }
 ],
 "metadata": {
  "kernelspec": {
   "display_name": "Python 3",
   "language": "python",
   "name": "python3"
  },
  "language_info": {
   "codemirror_mode": {
    "name": "ipython",
    "version": 3
   },
   "file_extension": ".py",
   "mimetype": "text/x-python",
   "name": "python",
   "nbconvert_exporter": "python",
   "pygments_lexer": "ipython3",
   "version": "3.8.1"
  }
 },
 "nbformat": 4,
 "nbformat_minor": 4
}
