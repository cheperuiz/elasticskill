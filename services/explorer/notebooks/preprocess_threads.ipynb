{
 "cells": [
  {
   "cell_type": "code",
   "execution_count": 1,
   "metadata": {},
   "outputs": [],
   "source": [
    "import ndjson\n",
    "import os\n",
    "from multiprocessing import Pool, cpu_count\n",
    "import textract\n",
    "from utils.csv import remove_stopwords\n",
    "from functools import partial"
   ]
  },
  {
   "cell_type": "code",
   "execution_count": 2,
   "metadata": {},
   "outputs": [],
   "source": [
    "data_path = 'data/threads'\n",
    "text_path = 'data/threads_text'"
   ]
  },
  {
   "cell_type": "code",
   "execution_count": 3,
   "metadata": {},
   "outputs": [],
   "source": [
    "def pdf_extract_text(file,root, out_dir):\n",
    "    name,_ = os.path.splitext(file)\n",
    "    text = textract.process(os.path.join(root,file))\n",
    "    text = remove_stopwords(text, remove_numbers=True)\n",
    "    text = text.replace(\"'\",\"\").replace('\"','').lower()\n",
    "    with open(os.path.join(out_dir,name+'.txt'),'w') as f:\n",
    "        f.write(text)"
   ]
  },
  {
   "cell_type": "code",
   "execution_count": 4,
   "metadata": {},
   "outputs": [],
   "source": [
    "def walk_pdf_extract_text(in_dir, out_dir):\n",
    "    if not os.path.exists(out_dir):\n",
    "        os.mkdir(out_dir) \n",
    "    root,_,files = next(os.walk(in_dir))\n",
    "    with Pool(cpu_count()) as p:\n",
    "        f = partial(pdf_extract_text,root=root, out_dir=out_dir)\n",
    "        p.map(f,files)"
   ]
  },
  {
   "cell_type": "code",
   "execution_count": 5,
   "metadata": {},
   "outputs": [],
   "source": [
    "walk_pdf_extract_text(data_path,text_path)"
   ]
  },
  {
   "cell_type": "code",
   "execution_count": 6,
   "metadata": {},
   "outputs": [],
   "source": [
    "def make_huge_json(in_dir):\n",
    "    dicts = []\n",
    "    root,_,files = next(os.walk(in_dir))\n",
    "    for file in files:\n",
    "        thread_id,_ = os.path.splitext(file)\n",
    "        with open(os.path.join(in_dir,file)) as f:\n",
    "            text = f.read()\n",
    "        dicts.append({'thread_id':thread_id, 'text':text})\n",
    "    return dicts"
   ]
  },
  {
   "cell_type": "code",
   "execution_count": 7,
   "metadata": {},
   "outputs": [],
   "source": [
    "d = make_huge_json('data/threads_text')"
   ]
  },
  {
   "cell_type": "code",
   "execution_count": 8,
   "metadata": {},
   "outputs": [],
   "source": [
    "with open('data/threads.json','w') as f:\n",
    "    ndjson.dump(d,f)"
   ]
  },
  {
   "cell_type": "code",
   "execution_count": null,
   "metadata": {},
   "outputs": [],
   "source": []
  }
 ],
 "metadata": {
  "kernelspec": {
   "display_name": "Python 3",
   "language": "python",
   "name": "python3"
  },
  "language_info": {
   "codemirror_mode": {
    "name": "ipython",
    "version": 3
   },
   "file_extension": ".py",
   "mimetype": "text/x-python",
   "name": "python",
   "nbconvert_exporter": "python",
   "pygments_lexer": "ipython3",
   "version": "3.8.1"
  }
 },
 "nbformat": 4,
 "nbformat_minor": 4
}
