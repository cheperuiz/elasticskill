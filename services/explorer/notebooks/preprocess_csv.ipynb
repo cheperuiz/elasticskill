{
 "cells": [
  {
   "cell_type": "code",
   "execution_count": 1,
   "metadata": {},
   "outputs": [],
   "source": [
    "from utils.csv import parallel_clean_csv,clean_csv, find_urls, line_generator, remove_stopwords\n",
    "from utils.string import *\n",
    "from nltk.corpus import stopwords\n",
    "import pandas as pd\n",
    "import csv\n",
    "import time"
   ]
  },
  {
   "cell_type": "code",
   "execution_count": 2,
   "metadata": {},
   "outputs": [],
   "source": [
    "dirty_path = 'data/report2.csv'\n",
    "clean_path = 'data/report[clean].csv'\n",
    "urls_path = 'data/urls.txt'\n"
   ]
  },
  {
   "cell_type": "code",
   "execution_count": 3,
   "metadata": {},
   "outputs": [
    {
     "name": "stdout",
     "output_type": "stream",
     "text": [
      "2.4764187335968018\n"
     ]
    }
   ],
   "source": [
    "now = time.time()\n",
    "parallel_clean_csv(dirty_path, clean_path)\n",
    "print(time.time()-now)"
   ]
  },
  {
   "cell_type": "code",
   "execution_count": 4,
   "metadata": {},
   "outputs": [],
   "source": [
    "clean_reader = csv.reader(open(clean_path))\n",
    "urls = find_urls(clean_reader)\n",
    "with open(urls_path,'w') as f:\n",
    "    f.write('\\n'.join(urls))"
   ]
  },
  {
   "cell_type": "code",
   "execution_count": 5,
   "metadata": {},
   "outputs": [
    {
     "data": {
      "text/plain": [
       "{'https://basecamp.com/1849140/projects/16101108/todos/398763966',\n",
       " 'https://basecamp.com/1849140/projects/16101108/todos/399727306',\n",
       " 'https://basecamp.com/1849140/projects/16101108/todos/401862070',\n",
       " 'https://basecamp.com/1849140/projects/16101108/todos/403180948',\n",
       " 'https://basecamp.com/1849140/projects/16101108/todos/40344735',\n",
       " 'https://basecamp.com/1849140/projects/16101108/todos/40407312',\n",
       " 'https://basecamp.com/1849140/projects/16829504/todos/39814603',\n",
       " 'https://community.nxp.com/groups/l2sup-hidglobal-190701',\n",
       " 'https://community.nxp.com/groups/l2sup-msctechnologies-181129',\n",
       " 'https://community.nxp.com/groups/l2sup-zebra-chimera-190327',\n",
       " 'https://community.nxp.com/message/1236520',\n",
       " 'https://community.nxp.com/thread/486685',\n",
       " 'https://community.nxp.com/thread/488378',\n",
       " 'https://community.nxp.com/thread/493375',\n",
       " 'https://community.nxp.com/thread/493859',\n",
       " 'https://community.nxp.com/thread/493879',\n",
       " 'https://community.nxp.com/thread/494414',\n",
       " 'https://community.nxp.com/thread/494581',\n",
       " 'https://community.nxp.com/thread/494923',\n",
       " 'https://community.nxp.com/thread/495365',\n",
       " 'https://community.nxp.com/thread/495522',\n",
       " 'https://community.nxp.com/thread/495732',\n",
       " 'https://community.nxp.com/thread/496137',\n",
       " 'https://community.nxp.com/thread/496138',\n",
       " 'https://community.nxp.com/thread/496436',\n",
       " 'https://community.nxp.com/thread/496937',\n",
       " 'https://community.nxp.com/thread/497179',\n",
       " 'https://community.nxp.com/thread/497604',\n",
       " 'https://community.nxp.com/thread/498250',\n",
       " 'https://community.nxp.com/thread/499563',\n",
       " 'https://community.nxp.com/thread/499774',\n",
       " 'https://community.nxp.com/thread/501390',\n",
       " 'https://community.nxp.com/thread/502745',\n",
       " 'https://community.nxp.com/thread/503749',\n",
       " 'https://community.nxp.com/thread/504551',\n",
       " 'https://community.nxp.com/thread/505003',\n",
       " 'https://community.nxp.com/thread/506444',\n",
       " 'https://community.nxp.com/thread/506788',\n",
       " 'https://community.nxp.com/thread/506839',\n",
       " 'https://community.nxp.com/thread/506913',\n",
       " 'https://community.nxp.com/thread/50878',\n",
       " 'https://community.nxp.com/thread/508897',\n",
       " 'https://community.nxp.com/thread/50911',\n",
       " 'https://community.nxp.com/thread/509166',\n",
       " 'https://community.nxp.com/thread/509278',\n",
       " 'https://community.nxp.com/thread/509615',\n",
       " 'https://community.nxp.com/thread/509715',\n",
       " 'https://community.nxp.com/thread/510571',\n",
       " 'https://community.nxp.com/thread/510572',\n",
       " 'https://community.nxp.com/thread/510686',\n",
       " 'https://community.nxp.com/thread/51070',\n",
       " 'https://community.nxp.com/thread/51095',\n",
       " 'https://community.nxp.com/thread/510952',\n",
       " 'https://community.nxp.com/thread/510956',\n",
       " 'https://community.nxp.com/thread/511081',\n",
       " 'https://community.nxp.com/thread/51114',\n",
       " 'https://community.nxp.com/thread/511362:schematics',\n",
       " 'https://community.nxp.com/thread/51141',\n",
       " 'https://community.nxp.com/thread/511431',\n",
       " 'https://community.nxp.com/thread/511645',\n",
       " 'https://community.nxp.com/thread/511646',\n",
       " 'https://community.nxp.com/thread/511749',\n",
       " 'https://community.nxp.com/thread/511976',\n",
       " 'https://community.nxp.com/thread/512039',\n",
       " 'https://community.nxp.com/thread/51210',\n",
       " 'https://community.nxp.com/thread/51222',\n",
       " 'https://community.nxp.com/thread/512258',\n",
       " 'https://community.nxp.com/thread/512265',\n",
       " 'https://community.nxp.com/thread/512462',\n",
       " 'https://community.nxp.com/thread/512588',\n",
       " 'https://community.nxp.com/thread/512664',\n",
       " 'https://community.nxp.com/thread/512859',\n",
       " 'https://community.nxp.com/thread/513045',\n",
       " 'https://community.nxp.com/thread/513048',\n",
       " 'https://community.nxp.com/thread/51306',\n",
       " 'https://community.nxp.com/thread/513079',\n",
       " 'https://community.nxp.com/thread/513272',\n",
       " 'https://community.nxp.com/thread/513292',\n",
       " 'https://community.nxp.com/thread/513649',\n",
       " 'https://community.nxp.com/thread/51365',\n",
       " 'https://community.nxp.com/thread/51373',\n",
       " 'https://community.nxp.com/thread/51395',\n",
       " 'https://community.nxp.com/thread/514088',\n",
       " 'https://community.nxp.com/thread/51413',\n",
       " 'https://community.nxp.com/thread/51429',\n",
       " 'https://community.nxp.com/thread/514374',\n",
       " 'https://community.nxp.com/thread/514761',\n",
       " 'https://community.nxp.com/thread/515169',\n",
       " 'https://community.nxp.com/thread/51578',\n",
       " 'https://community.nxp.com/thread/515783',\n",
       " 'https://community.nxp.com/thread/515784',\n",
       " 'https://community.nxp.com/thread/516126',\n",
       " 'https://community.nxp.com/thread/51617',\n",
       " 'https://community.nxp.com/thread/516318',\n",
       " 'https://community.nxp.com/thread/516748',\n",
       " 'https://community.nxp.com/thread/5173',\n",
       " 'https://community.nxp.com/thread/51731',\n",
       " 'https://community.nxp.com/thread/51755',\n",
       " 'https://community.nxp.com/thread/51782',\n",
       " 'https://community.nxp.com/thread/51783',\n",
       " 'https://community.nxp.com/thread/517831',\n",
       " 'https://community.nxp.com/thread/518148',\n",
       " 'https://community.nxp.com/thread/51829',\n",
       " 'https://community.nxp.com/thread/51836',\n",
       " 'https://community.nxp.com/thread/51874',\n",
       " 'https://community.nxp.com/thread/519137',\n",
       " 'https://community.nxp.com/thread/51925',\n",
       " 'https://community.nxp.com/thread/51940',\n",
       " 'https://community.nxp.com/thread/51941',\n",
       " 'https://community.nxp.com/thread/51952',\n",
       " 'https://community.nxp.com/thread/519523',\n",
       " 'https://community.nxp.com/thread/519613',\n",
       " 'https://community.nxp.com/thread/51964',\n",
       " 'https://community.nxp.com/thread/519926',\n",
       " 'https://community.nxp.com/thread/51999',\n",
       " 'https://community.nxp.com/thread/52000',\n",
       " 'https://community.nxp.com/thread/52009',\n",
       " 'https://community.nxp.com/thread/520093',\n",
       " 'https://community.nxp.com/thread/52038',\n",
       " 'https://community.nxp.com/thread/52064',\n",
       " 'https://community.nxp.com/thread/52065',\n",
       " 'https://community.nxp.com/thread/520691',\n",
       " 'https://community.nxp.com/thread/520946',\n",
       " 'https://community.nxp.com/thread/521356',\n",
       " 'https://community.nxp.com/thread/521357',\n",
       " 'https://community.nxp.com/thread/521457',\n",
       " 'https://community.nxp.com/thread/521458',\n",
       " 'https://community.nxp.com/thread/521527',\n",
       " 'https://community.nxp.com/thread/521688',\n",
       " 'https://community.nxp.com/thread/522205',\n",
       " 'https://community.nxp.com/thread/522494',\n",
       " 'https://community.nxp.com/thread/522543',\n",
       " 'https://community.nxp.com/thread/522886',\n",
       " 'https://community.nxp.com/thread/523144'}"
      ]
     },
     "execution_count": 5,
     "metadata": {},
     "output_type": "execute_result"
    }
   ],
   "source": [
    "urls"
   ]
  },
  {
   "cell_type": "code",
   "execution_count": 6,
   "metadata": {},
   "outputs": [
    {
     "data": {
      "text/plain": [
       "134"
      ]
     },
     "execution_count": 6,
     "metadata": {},
     "output_type": "execute_result"
    }
   ],
   "source": [
    "len(urls)"
   ]
  },
  {
   "cell_type": "code",
   "execution_count": null,
   "metadata": {},
   "outputs": [],
   "source": []
  }
 ],
 "metadata": {
  "kernelspec": {
   "display_name": "Python 3",
   "language": "python",
   "name": "python3"
  },
  "language_info": {
   "codemirror_mode": {
    "name": "ipython",
    "version": 3
   },
   "file_extension": ".py",
   "mimetype": "text/x-python",
   "name": "python",
   "nbconvert_exporter": "python",
   "pygments_lexer": "ipython3",
   "version": "3.8.1"
  }
 },
 "nbformat": 4,
 "nbformat_minor": 4
}
